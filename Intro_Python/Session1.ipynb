{
  "nbformat": 4,
  "nbformat_minor": 0,
  "metadata": {
    "colab": {
      "provenance": []
    },
    "kernelspec": {
      "name": "python3",
      "display_name": "Python 3"
    },
    "language_info": {
      "name": "python"
    }
  },
  "cells": [
    {
      "cell_type": "code",
      "execution_count": 25,
      "metadata": {
        "colab": {
          "base_uri": "https://localhost:8080/"
        },
        "id": "e7ipXwieUjqD",
        "outputId": "53063384-f3eb-4fb4-c4db-9ccdcbe208cc"
      },
      "outputs": [
        {
          "output_type": "execute_result",
          "data": {
            "text/plain": [
              "10"
            ]
          },
          "metadata": {},
          "execution_count": 25
        }
      ],
      "source": [
        "var1=10\n",
        "var1"
      ]
    },
    {
      "cell_type": "code",
      "source": [
        "var1=\"abcd\"\n",
        "var1"
      ],
      "metadata": {
        "colab": {
          "base_uri": "https://localhost:8080/",
          "height": 36
        },
        "id": "eM1Oaz3HUsUH",
        "outputId": "6917c965-34f2-4c76-eb40-467efba5cddb"
      },
      "execution_count": 26,
      "outputs": [
        {
          "output_type": "execute_result",
          "data": {
            "text/plain": [
              "'abcd'"
            ],
            "application/vnd.google.colaboratory.intrinsic+json": {
              "type": "string"
            }
          },
          "metadata": {},
          "execution_count": 26
        }
      ]
    },
    {
      "cell_type": "code",
      "source": [
        "var1 == 10"
      ],
      "metadata": {
        "colab": {
          "base_uri": "https://localhost:8080/"
        },
        "id": "nhFeXkrcUuDW",
        "outputId": "c894a0a6-7f91-4152-e416-c155fb6533eb"
      },
      "execution_count": 27,
      "outputs": [
        {
          "output_type": "execute_result",
          "data": {
            "text/plain": [
              "False"
            ]
          },
          "metadata": {},
          "execution_count": 27
        }
      ]
    },
    {
      "cell_type": "code",
      "source": [
        "# datatype"
      ],
      "metadata": {
        "id": "nPnpKUeyUvw3"
      },
      "execution_count": null,
      "outputs": []
    },
    {
      "cell_type": "code",
      "source": [
        "2+2, 2-2, 2*2, 2/2, 2%2, 2//2, 2**2"
      ],
      "metadata": {
        "colab": {
          "base_uri": "https://localhost:8080/"
        },
        "id": "cxCsyPRjU0zl",
        "outputId": "a23dc0a7-55fb-4d79-b907-33201780e80c"
      },
      "execution_count": 28,
      "outputs": [
        {
          "output_type": "execute_result",
          "data": {
            "text/plain": [
              "(4, 0, 4, 1.0, 0, 1, 4)"
            ]
          },
          "metadata": {},
          "execution_count": 28
        }
      ]
    },
    {
      "cell_type": "code",
      "source": [
        "# 4, 0, 4, 1.0, 0, 1, 4"
      ],
      "metadata": {
        "id": "eJV6UKq2YtkA"
      },
      "execution_count": null,
      "outputs": []
    },
    {
      "cell_type": "code",
      "source": [
        "fruits = [\"apple\", \"orange\", \"berries\"]"
      ],
      "metadata": {
        "id": "UlmLysuSVDOJ"
      },
      "execution_count": 30,
      "outputs": []
    },
    {
      "cell_type": "code",
      "source": [
        "# in\n",
        "\"banana\" in fruits"
      ],
      "metadata": {
        "colab": {
          "base_uri": "https://localhost:8080/"
        },
        "id": "lEJMd2HUVMlZ",
        "outputId": "019bc1a6-c5eb-40d8-b5b8-ba882cec9d06"
      },
      "execution_count": 33,
      "outputs": [
        {
          "output_type": "execute_result",
          "data": {
            "text/plain": [
              "False"
            ]
          },
          "metadata": {},
          "execution_count": 33
        }
      ]
    },
    {
      "cell_type": "code",
      "source": [
        "new_fruits=tuple(fruits)\n",
        "new_fruits"
      ],
      "metadata": {
        "colab": {
          "base_uri": "https://localhost:8080/"
        },
        "id": "t4c1od0kVOM0",
        "outputId": "4effe5bb-cf08-48ee-b3be-244fa287c5bb"
      },
      "execution_count": 34,
      "outputs": [
        {
          "output_type": "execute_result",
          "data": {
            "text/plain": [
              "('apple', 'orange', 'berries')"
            ]
          },
          "metadata": {},
          "execution_count": 34
        }
      ]
    },
    {
      "cell_type": "code",
      "source": [
        "new_fruits[0]=\"banana\""
      ],
      "metadata": {
        "colab": {
          "base_uri": "https://localhost:8080/",
          "height": 141
        },
        "id": "rTNiacJFZI8i",
        "outputId": "5cba1bad-9f6f-4bd2-80ea-4ecff84cc7a0"
      },
      "execution_count": 35,
      "outputs": [
        {
          "output_type": "error",
          "ename": "TypeError",
          "evalue": "'tuple' object does not support item assignment",
          "traceback": [
            "\u001b[0;31m---------------------------------------------------------------------------\u001b[0m",
            "\u001b[0;31mTypeError\u001b[0m                                 Traceback (most recent call last)",
            "\u001b[0;32m<ipython-input-35-37e2a3a49265>\u001b[0m in \u001b[0;36m<cell line: 1>\u001b[0;34m()\u001b[0m\n\u001b[0;32m----> 1\u001b[0;31m \u001b[0mnew_fruits\u001b[0m\u001b[0;34m[\u001b[0m\u001b[0;36m0\u001b[0m\u001b[0;34m]\u001b[0m\u001b[0;34m=\u001b[0m\u001b[0;34m\"banana\"\u001b[0m\u001b[0;34m\u001b[0m\u001b[0;34m\u001b[0m\u001b[0m\n\u001b[0m",
            "\u001b[0;31mTypeError\u001b[0m: 'tuple' object does not support item assignment"
          ]
        }
      ]
    },
    {
      "cell_type": "code",
      "source": [
        "fruits_dict = {\"apple\": 10, \"orange\": 20, \"berries\": 7}\n",
        "fruits_dict"
      ],
      "metadata": {
        "colab": {
          "base_uri": "https://localhost:8080/"
        },
        "id": "foedwypCVTWl",
        "outputId": "809f2b59-6372-4088-cf1a-a1181310b6e1"
      },
      "execution_count": 36,
      "outputs": [
        {
          "output_type": "execute_result",
          "data": {
            "text/plain": [
              "{'apple': 10, 'orange': 20, 'berries': 7}"
            ]
          },
          "metadata": {},
          "execution_count": 36
        }
      ]
    },
    {
      "cell_type": "code",
      "source": [
        "fruits_dict[\"apple\"]"
      ],
      "metadata": {
        "colab": {
          "base_uri": "https://localhost:8080/"
        },
        "id": "s0Fnz_NXblQs",
        "outputId": "3e934a08-7466-48c9-b1db-2f1107393a8c"
      },
      "execution_count": 37,
      "outputs": [
        {
          "output_type": "execute_result",
          "data": {
            "text/plain": [
              "10"
            ]
          },
          "metadata": {},
          "execution_count": 37
        }
      ]
    },
    {
      "cell_type": "code",
      "source": [
        "# . tab\n",
        "fruits_dict."
      ],
      "metadata": {
        "id": "RayepP-8VdmT"
      },
      "execution_count": null,
      "outputs": []
    },
    {
      "cell_type": "code",
      "source": [
        "fruits_dict.keys(), fruits_dict.values(), fruits_dict.items()"
      ],
      "metadata": {
        "colab": {
          "base_uri": "https://localhost:8080/"
        },
        "id": "r3OC77WxVqyy",
        "outputId": "eb04db00-1283-4bf4-fb52-25f4b6702493"
      },
      "execution_count": 38,
      "outputs": [
        {
          "output_type": "execute_result",
          "data": {
            "text/plain": [
              "(dict_keys(['apple', 'orange', 'berries']),\n",
              " dict_values([10, 20, 7]),\n",
              " dict_items([('apple', 10), ('orange', 20), ('berries', 7)]))"
            ]
          },
          "metadata": {},
          "execution_count": 38
        }
      ]
    },
    {
      "cell_type": "code",
      "source": [
        "#"
      ],
      "metadata": {
        "id": "t9sOm3S3cAPL"
      },
      "execution_count": null,
      "outputs": []
    },
    {
      "cell_type": "code",
      "source": [
        "# 0, 1, 2, 3, 4\n",
        "my_list = [1, \"two\", 3.5, \"four\", 5, 6.0, \"seven\", 8.2] # \"four\", 5\n",
        "#          -8,  -7    -6,    -5,  -4  ,-3, -2, -1"
      ],
      "metadata": {
        "id": "mih1aXfPVshN"
      },
      "execution_count": 40,
      "outputs": []
    },
    {
      "cell_type": "code",
      "source": [
        "my_list[3:5:1]"
      ],
      "metadata": {
        "colab": {
          "base_uri": "https://localhost:8080/"
        },
        "id": "yOWxM6WrVxDH",
        "outputId": "eef103e8-908e-49af-b5f4-18a9643fe214"
      },
      "execution_count": 41,
      "outputs": [
        {
          "output_type": "execute_result",
          "data": {
            "text/plain": [
              "['four', 5]"
            ]
          },
          "metadata": {},
          "execution_count": 41
        }
      ]
    },
    {
      "cell_type": "code",
      "source": [
        "my_list[-5:-3]"
      ],
      "metadata": {
        "colab": {
          "base_uri": "https://localhost:8080/"
        },
        "id": "ORfh1jxWcq2C",
        "outputId": "9b506103-ade3-4bfe-96d7-f6f72dbe5d51"
      },
      "execution_count": 42,
      "outputs": [
        {
          "output_type": "execute_result",
          "data": {
            "text/plain": [
              "['four', 5]"
            ]
          },
          "metadata": {},
          "execution_count": 42
        }
      ]
    },
    {
      "cell_type": "code",
      "source": [
        "#[start:stop:increment]\n",
        "my_list[::1]"
      ],
      "metadata": {
        "colab": {
          "base_uri": "https://localhost:8080/"
        },
        "id": "-HUNFcordCwn",
        "outputId": "33988049-0c68-4bbf-a257-6fde2f64ddde"
      },
      "execution_count": 45,
      "outputs": [
        {
          "output_type": "execute_result",
          "data": {
            "text/plain": [
              "[1, 'two', 3.5, 'four', 5, 6.0, 'seven', 8.2]"
            ]
          },
          "metadata": {},
          "execution_count": 45
        }
      ]
    },
    {
      "cell_type": "code",
      "source": [
        "temp = 15"
      ],
      "metadata": {
        "id": "nJfD3dAVWMpZ"
      },
      "execution_count": 49,
      "outputs": []
    },
    {
      "cell_type": "code",
      "source": [
        "if temp > 30:\n",
        "  print(\"High\")\n",
        "elif temp <30 and temp > 15:\n",
        "  print(\"Moderate\")\n",
        "else:\n",
        "  print(\"Low\")"
      ],
      "metadata": {
        "colab": {
          "base_uri": "https://localhost:8080/"
        },
        "id": "Nr-34EBzVyVa",
        "outputId": "eb0a7554-30f2-480f-a4be-b5c5ffdc5587"
      },
      "execution_count": 51,
      "outputs": [
        {
          "output_type": "stream",
          "name": "stdout",
          "text": [
            "Low\n"
          ]
        }
      ]
    },
    {
      "cell_type": "code",
      "source": [
        "# print(range(1,5)) -> 1,2,3,4"
      ],
      "metadata": {
        "colab": {
          "base_uri": "https://localhost:8080/"
        },
        "id": "m7xD8caMYY7g",
        "outputId": "c50bf8f7-4cb5-4797-ce84-84c98f3ce8f3"
      },
      "execution_count": 52,
      "outputs": [
        {
          "output_type": "stream",
          "name": "stdout",
          "text": [
            "range(1, 5)\n"
          ]
        }
      ]
    },
    {
      "cell_type": "code",
      "source": [
        "for i in range(1,5):\n",
        "  print(i**2)"
      ],
      "metadata": {
        "colab": {
          "base_uri": "https://localhost:8080/"
        },
        "id": "wWpqNV66WKXA",
        "outputId": "fae1a124-d9fc-4a1f-de0a-01c3a271f59b"
      },
      "execution_count": 16,
      "outputs": [
        {
          "output_type": "stream",
          "name": "stdout",
          "text": [
            "1\n",
            "4\n",
            "9\n",
            "16\n"
          ]
        }
      ]
    },
    {
      "cell_type": "code",
      "source": [
        "# Do while loop\n",
        "i=1\n",
        "while i < 5:\n",
        "  print(i**2)\n",
        "  i=i+1"
      ],
      "metadata": {
        "colab": {
          "base_uri": "https://localhost:8080/"
        },
        "id": "iZxFgmdeWY7W",
        "outputId": "79054c28-d445-4e93-9711-98cf6801e90a"
      },
      "execution_count": 53,
      "outputs": [
        {
          "output_type": "stream",
          "name": "stdout",
          "text": [
            "1\n",
            "4\n",
            "9\n",
            "16\n"
          ]
        }
      ]
    },
    {
      "cell_type": "code",
      "source": [
        "# Function - generalize temp\n",
        "\n",
        "def weather(temp):\n",
        "  if temp > 30:\n",
        "    print(\"High\")\n",
        "  elif temp <30 and temp > 15:\n",
        "    print(\"Moderate\")\n",
        "  else:\n",
        "    print(\"Low\")\n"
      ],
      "metadata": {
        "id": "aQHJrO_3WdeX"
      },
      "execution_count": 54,
      "outputs": []
    },
    {
      "cell_type": "code",
      "source": [
        "temp=int(input())\n",
        "weather(temp)"
      ],
      "metadata": {
        "colab": {
          "base_uri": "https://localhost:8080/"
        },
        "id": "AeXtsU2chJR4",
        "outputId": "0ba3b5ba-5fc9-4983-8298-d740c6901c03"
      },
      "execution_count": 57,
      "outputs": [
        {
          "output_type": "stream",
          "name": "stdout",
          "text": [
            "10\n",
            "Low\n"
          ]
        }
      ]
    },
    {
      "cell_type": "code",
      "source": [
        "# anonymous function\n",
        "add_ten = lambda x: x+10\n",
        "add_ten(10)"
      ],
      "metadata": {
        "colab": {
          "base_uri": "https://localhost:8080/"
        },
        "id": "Y6WdbB5jW5Si",
        "outputId": "5e2def68-458b-4f4f-c31d-f5087c1de50a"
      },
      "execution_count": 58,
      "outputs": [
        {
          "output_type": "execute_result",
          "data": {
            "text/plain": [
              "20"
            ]
          },
          "metadata": {},
          "execution_count": 58
        }
      ]
    },
    {
      "cell_type": "code",
      "source": [
        "a=123\n",
        "def add_num(a,b):\n",
        "  \"\"\"\n",
        "  this method sums two numbers\n",
        "  \"\"\"\n",
        "  a=\"abcd\"\n",
        "  return(a+b)\n",
        "\n",
        "x=add_num(10,20)\n",
        "print(x)\n",
        "y=x+100\n",
        "print(y)"
      ],
      "metadata": {
        "colab": {
          "base_uri": "https://localhost:8080/"
        },
        "id": "6yqYLZpUXYHA",
        "outputId": "400eb819-370d-4f9c-c89b-2fee8b65ffa2"
      },
      "execution_count": 59,
      "outputs": [
        {
          "output_type": "stream",
          "name": "stdout",
          "text": [
            "30\n",
            "130\n"
          ]
        }
      ]
    },
    {
      "cell_type": "code",
      "source": [
        "def add_num(a,b):\n",
        "  print(a+b)\n",
        "\n",
        "x=add_num(10,20)"
      ],
      "metadata": {
        "colab": {
          "base_uri": "https://localhost:8080/"
        },
        "id": "PNUIosw4XGYI",
        "outputId": "a092cfb6-ffaa-4243-ea64-bc3b373e4921"
      },
      "execution_count": 61,
      "outputs": [
        {
          "output_type": "stream",
          "name": "stdout",
          "text": [
            "30\n"
          ]
        }
      ]
    },
    {
      "cell_type": "code",
      "source": [
        "print(x)"
      ],
      "metadata": {
        "colab": {
          "base_uri": "https://localhost:8080/"
        },
        "id": "XVFcwRm_jQXE",
        "outputId": "6cbb2000-671a-43fa-ea22-6b91db5097b9"
      },
      "execution_count": 62,
      "outputs": [
        {
          "output_type": "stream",
          "name": "stdout",
          "text": [
            "None\n"
          ]
        }
      ]
    },
    {
      "cell_type": "code",
      "source": [
        "y=x+100\n",
        "print(y)"
      ],
      "metadata": {
        "id": "HZrA5S8RjOjm"
      },
      "execution_count": null,
      "outputs": []
    },
    {
      "cell_type": "code",
      "source": [],
      "metadata": {
        "id": "qdqlUPqTXTnC"
      },
      "execution_count": null,
      "outputs": []
    },
    {
      "cell_type": "code",
      "source": [
        "min(2,3)"
      ],
      "metadata": {
        "colab": {
          "base_uri": "https://localhost:8080/"
        },
        "id": "BPbkA6UrXV2d",
        "outputId": "c0b644da-2fdc-4614-a7a8-da1a3a0f2904"
      },
      "execution_count": 63,
      "outputs": [
        {
          "output_type": "execute_result",
          "data": {
            "text/plain": [
              "2"
            ]
          },
          "metadata": {},
          "execution_count": 63
        }
      ]
    },
    {
      "cell_type": "code",
      "source": [
        "min??"
      ],
      "metadata": {
        "id": "xAmIi2cJZVmf"
      },
      "execution_count": 64,
      "outputs": []
    },
    {
      "cell_type": "code",
      "source": [],
      "metadata": {
        "id": "bXXD5pVhZblS"
      },
      "execution_count": null,
      "outputs": []
    }
  ]
}